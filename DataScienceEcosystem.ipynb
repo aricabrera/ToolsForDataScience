{
  "nbformat": 4,
  "nbformat_minor": 0,
  "metadata": {
    "colab": {
      "provenance": []
    },
    "kernelspec": {
      "name": "python3",
      "display_name": "Python 3"
    },
    "language_info": {
      "name": "python"
    }
  },
  "cells": [
    {
      "cell_type": "markdown",
      "source": [
        "# Data Science Tools and Ecosystem"
      ],
      "metadata": {
        "id": "5uw_XexjU6Ch"
      }
    },
    {
      "cell_type": "markdown",
      "source": [
        "In this notebook, Data Science Tools and Ecosystem are summarized."
      ],
      "metadata": {
        "id": "iyBi0qbDVSvN"
      }
    },
    {
      "cell_type": "markdown",
      "source": [
        "Some of the popular languages that Data Scientists use are:\n",
        "1. Java\n",
        "2. Python\n",
        "3. C++"
      ],
      "metadata": {
        "id": "ts1KhuLW6M3F"
      }
    },
    {
      "cell_type": "markdown",
      "source": [
        "Some of the commonly used libraries used by Data Scientists include:\n",
        "1. NumPy\n",
        "2. Pandas\n",
        "3. Matplotlib"
      ],
      "metadata": {
        "id": "gCnd15Pu6yeL"
      }
    },
    {
      "cell_type": "markdown",
      "source": [
        "| Data Science Tools |\n",
        "| ------------------ |\n",
        "| Jupyter Lab        |\n",
        "| Apache Zeppelin    |\n",
        "| R Studio           |"
      ],
      "metadata": {
        "id": "n3ofxdtn7mzv"
      }
    },
    {
      "cell_type": "markdown",
      "source": [
        "### Below are a few examples of evaluating arithmetic expressions in Python"
      ],
      "metadata": {
        "id": "guc5VvNR90MM"
      }
    },
    {
      "cell_type": "code",
      "execution_count": 1,
      "metadata": {
        "colab": {
          "base_uri": "https://localhost:8080/"
        },
        "id": "e51kVmPmUvSr",
        "outputId": "18ea2c95-a177-476c-9329-e3e8d4218a4a"
      },
      "outputs": [
        {
          "output_type": "execute_result",
          "data": {
            "text/plain": [
              "17"
            ]
          },
          "metadata": {},
          "execution_count": 1
        }
      ],
      "source": [
        "# This a simple arithmetic expression to mutiply then add integers\n",
        "(3*4)+5"
      ]
    },
    {
      "cell_type": "code",
      "source": [
        "# This will convert 200 minutes to hours by diving by 60\n",
        "200/60"
      ],
      "metadata": {
        "colab": {
          "base_uri": "https://localhost:8080/"
        },
        "id": "X5vkFu58-lCd",
        "outputId": "86a55ba0-70f7-4ae7-9c3d-20eb8a59e51b"
      },
      "execution_count": 2,
      "outputs": [
        {
          "output_type": "execute_result",
          "data": {
            "text/plain": [
              "3.3333333333333335"
            ]
          },
          "metadata": {},
          "execution_count": 2
        }
      ]
    },
    {
      "cell_type": "markdown",
      "source": [
        "**Objectives:**\n",
        "- List popular languages for Data Science\n",
        "- List commonly used libraries for Data Science\n",
        "- Create a table that lists some of the Data Science Tools"
      ],
      "metadata": {
        "id": "7CeX8Qso_LSe"
      }
    },
    {
      "cell_type": "markdown",
      "source": [
        "## Author\n",
        "Ariana Cabrera"
      ],
      "metadata": {
        "id": "d7lw-ZXP_tkp"
      }
    }
  ]
}